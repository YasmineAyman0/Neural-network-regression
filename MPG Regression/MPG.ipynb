{
  "cells": [
    {
      "cell_type": "code",
      "execution_count": 740,
      "metadata": {
        "colab": {
          "base_uri": "https://localhost:8080/"
        },
        "id": "MISlA5F9Da-2",
        "outputId": "e07fe178-b175-49d2-cce9-522c55e50ce3"
      },
      "outputs": [
        {
          "output_type": "stream",
          "name": "stdout",
          "text": [
            "Drive already mounted at /content/drive; to attempt to forcibly remount, call drive.mount(\"/content/drive\", force_remount=True).\n"
          ]
        }
      ],
      "source": [
        "from google.colab import drive\n",
        "drive.mount('/content/drive')"
      ]
    },
    {
      "cell_type": "code",
      "execution_count": 741,
      "metadata": {
        "colab": {
          "base_uri": "https://localhost:8080/"
        },
        "id": "0keO3jdzD87E",
        "outputId": "23bade64-e778-458f-d650-31bfa024ff38"
      },
      "outputs": [
        {
          "output_type": "execute_result",
          "data": {
            "text/plain": [
              "<bound method NDFrame.describe of       MPG  Cylinders  ...  Origin                    CarName\n",
              "0    18.0          8  ...       1  chevrolet chevelle malibu\n",
              "1    15.0          8  ...       1          buick skylark 320\n",
              "2    18.0          8  ...       1         plymouth satellite\n",
              "3    16.0          8  ...       1              amc rebel sst\n",
              "4    17.0          8  ...       1                ford torino\n",
              "..    ...        ...  ...     ...                        ...\n",
              "393  27.0          4  ...       1            ford mustang gl\n",
              "394  44.0          4  ...       2                  vw pickup\n",
              "395  32.0          4  ...       1              dodge rampage\n",
              "396  28.0          4  ...       1                ford ranger\n",
              "397  31.0          4  ...       1                 chevy s-10\n",
              "\n",
              "[398 rows x 9 columns]>"
            ]
          },
          "metadata": {},
          "execution_count": 741
        }
      ],
      "source": [
        "import pandas as pd\n",
        "path=\"/content/drive/MyDrive/dataset/autoMPG.csv\"\n",
        "#df = pd.read_csv('autoMPG.csv')\n",
        "df = pd.read_csv(path)\n",
        "df.describe"
      ]
    },
    {
      "cell_type": "code",
      "execution_count": 742,
      "metadata": {
        "colab": {
          "base_uri": "https://localhost:8080/",
          "height": 206
        },
        "id": "88bJ9_a-ERRn",
        "outputId": "71b13e29-1332-4dff-e3db-aa22746fa9dd"
      },
      "outputs": [
        {
          "output_type": "execute_result",
          "data": {
            "text/html": [
              "<div>\n",
              "<style scoped>\n",
              "    .dataframe tbody tr th:only-of-type {\n",
              "        vertical-align: middle;\n",
              "    }\n",
              "\n",
              "    .dataframe tbody tr th {\n",
              "        vertical-align: top;\n",
              "    }\n",
              "\n",
              "    .dataframe thead th {\n",
              "        text-align: right;\n",
              "    }\n",
              "</style>\n",
              "<table border=\"1\" class=\"dataframe\">\n",
              "  <thead>\n",
              "    <tr style=\"text-align: right;\">\n",
              "      <th></th>\n",
              "      <th>MPG</th>\n",
              "      <th>Cylinders</th>\n",
              "      <th>Displacement</th>\n",
              "      <th>Horsepower</th>\n",
              "      <th>Weight</th>\n",
              "      <th>Acceleration</th>\n",
              "      <th>Model Year</th>\n",
              "      <th>Origin</th>\n",
              "      <th>CarName</th>\n",
              "    </tr>\n",
              "  </thead>\n",
              "  <tbody>\n",
              "    <tr>\n",
              "      <th>0</th>\n",
              "      <td>18.0</td>\n",
              "      <td>8</td>\n",
              "      <td>307.0</td>\n",
              "      <td>130.0</td>\n",
              "      <td>3504.0</td>\n",
              "      <td>12.0</td>\n",
              "      <td>70</td>\n",
              "      <td>1</td>\n",
              "      <td>chevrolet chevelle malibu</td>\n",
              "    </tr>\n",
              "    <tr>\n",
              "      <th>1</th>\n",
              "      <td>15.0</td>\n",
              "      <td>8</td>\n",
              "      <td>350.0</td>\n",
              "      <td>165.0</td>\n",
              "      <td>3693.0</td>\n",
              "      <td>11.5</td>\n",
              "      <td>70</td>\n",
              "      <td>1</td>\n",
              "      <td>buick skylark 320</td>\n",
              "    </tr>\n",
              "    <tr>\n",
              "      <th>2</th>\n",
              "      <td>18.0</td>\n",
              "      <td>8</td>\n",
              "      <td>318.0</td>\n",
              "      <td>150.0</td>\n",
              "      <td>3436.0</td>\n",
              "      <td>11.0</td>\n",
              "      <td>70</td>\n",
              "      <td>1</td>\n",
              "      <td>plymouth satellite</td>\n",
              "    </tr>\n",
              "    <tr>\n",
              "      <th>3</th>\n",
              "      <td>16.0</td>\n",
              "      <td>8</td>\n",
              "      <td>304.0</td>\n",
              "      <td>150.0</td>\n",
              "      <td>3433.0</td>\n",
              "      <td>12.0</td>\n",
              "      <td>70</td>\n",
              "      <td>1</td>\n",
              "      <td>amc rebel sst</td>\n",
              "    </tr>\n",
              "    <tr>\n",
              "      <th>4</th>\n",
              "      <td>17.0</td>\n",
              "      <td>8</td>\n",
              "      <td>302.0</td>\n",
              "      <td>140.0</td>\n",
              "      <td>3449.0</td>\n",
              "      <td>10.5</td>\n",
              "      <td>70</td>\n",
              "      <td>1</td>\n",
              "      <td>ford torino</td>\n",
              "    </tr>\n",
              "  </tbody>\n",
              "</table>\n",
              "</div>"
            ],
            "text/plain": [
              "    MPG  Cylinders  Displacement  ...  Model Year  Origin                    CarName\n",
              "0  18.0          8         307.0  ...          70       1  chevrolet chevelle malibu\n",
              "1  15.0          8         350.0  ...          70       1          buick skylark 320\n",
              "2  18.0          8         318.0  ...          70       1         plymouth satellite\n",
              "3  16.0          8         304.0  ...          70       1              amc rebel sst\n",
              "4  17.0          8         302.0  ...          70       1                ford torino\n",
              "\n",
              "[5 rows x 9 columns]"
            ]
          },
          "metadata": {},
          "execution_count": 742
        }
      ],
      "source": [
        "df.head()"
      ]
    },
    {
      "cell_type": "code",
      "execution_count": 743,
      "metadata": {
        "colab": {
          "base_uri": "https://localhost:8080/"
        },
        "id": "LAt7YFYvEbL3",
        "outputId": "b4ea4d64-f736-48ea-91f7-9d4ac543afdd"
      },
      "outputs": [
        {
          "output_type": "stream",
          "name": "stdout",
          "text": [
            "<class 'pandas.core.frame.DataFrame'>\n",
            "RangeIndex: 398 entries, 0 to 397\n",
            "Data columns (total 9 columns):\n",
            " #   Column        Non-Null Count  Dtype  \n",
            "---  ------        --------------  -----  \n",
            " 0   MPG           398 non-null    float64\n",
            " 1   Cylinders     398 non-null    int64  \n",
            " 2   Displacement  398 non-null    float64\n",
            " 3   Horsepower    392 non-null    float64\n",
            " 4   Weight        398 non-null    float64\n",
            " 5   Acceleration  398 non-null    float64\n",
            " 6   Model Year    398 non-null    int64  \n",
            " 7   Origin        398 non-null    int64  \n",
            " 8   CarName       398 non-null    object \n",
            "dtypes: float64(5), int64(3), object(1)\n",
            "memory usage: 28.1+ KB\n"
          ]
        }
      ],
      "source": [
        "df.info()"
      ]
    },
    {
      "cell_type": "code",
      "execution_count": 744,
      "metadata": {
        "colab": {
          "base_uri": "https://localhost:8080/"
        },
        "id": "ATK3IHquEgVA",
        "outputId": "f4229f56-7204-46b0-a640-785a029bc999"
      },
      "outputs": [
        {
          "output_type": "stream",
          "name": "stdout",
          "text": [
            "<class 'pandas.core.frame.DataFrame'>\n",
            "RangeIndex: 398 entries, 0 to 397\n",
            "Data columns (total 9 columns):\n",
            " #   Column        Non-Null Count  Dtype  \n",
            "---  ------        --------------  -----  \n",
            " 0   MPG           398 non-null    float64\n",
            " 1   Cylinders     398 non-null    int64  \n",
            " 2   Displacement  398 non-null    float64\n",
            " 3   Horsepower    392 non-null    float64\n",
            " 4   Weight        398 non-null    float64\n",
            " 5   Acceleration  398 non-null    float64\n",
            " 6   Model Year    398 non-null    int64  \n",
            " 7   Origin        398 non-null    int64  \n",
            " 8   CarName       398 non-null    object \n",
            "dtypes: float64(5), int64(3), object(1)\n",
            "memory usage: 28.1+ KB\n"
          ]
        }
      ],
      "source": [
        "from sklearn import preprocessing\n",
        "label_encoder = preprocessing.LabelEncoder() \n",
        "df['Model Year']= label_encoder.fit_transform(df['Model Year'])\n",
        "df['Model Year'].unique()\n",
        "y=df['Model Year']\n",
        "df.info()"
      ]
    },
    {
      "cell_type": "code",
      "execution_count": 745,
      "metadata": {
        "colab": {
          "base_uri": "https://localhost:8080/"
        },
        "id": "wTzpzzZxFAFX",
        "outputId": "6c64ad90-7fee-4409-b391-518f9ba4e45b"
      },
      "outputs": [
        {
          "output_type": "stream",
          "name": "stdout",
          "text": [
            "<class 'pandas.core.frame.DataFrame'>\n",
            "RangeIndex: 398 entries, 0 to 397\n",
            "Data columns (total 9 columns):\n",
            " #   Column        Non-Null Count  Dtype  \n",
            "---  ------        --------------  -----  \n",
            " 0   MPG           398 non-null    float64\n",
            " 1   Cylinders     398 non-null    int64  \n",
            " 2   Displacement  398 non-null    float64\n",
            " 3   Horsepower    392 non-null    float64\n",
            " 4   Weight        398 non-null    float64\n",
            " 5   Acceleration  398 non-null    float64\n",
            " 6   Model Year    398 non-null    int64  \n",
            " 7   Origin        398 non-null    int64  \n",
            " 8   CarName       398 non-null    int64  \n",
            "dtypes: float64(5), int64(4)\n",
            "memory usage: 28.1 KB\n"
          ]
        }
      ],
      "source": [
        "label_encoder = preprocessing.LabelEncoder() \n",
        "df['CarName']= label_encoder.fit_transform(df['CarName'])\n",
        "df['CarName'].unique()\n",
        "y=df['CarName']\n",
        "df.info()"
      ]
    },
    {
      "cell_type": "code",
      "execution_count": 746,
      "metadata": {
        "colab": {
          "base_uri": "https://localhost:8080/"
        },
        "id": "volvPLR3FK2E",
        "outputId": "af7eb12f-0838-4f09-e8b3-665642190772"
      },
      "outputs": [
        {
          "output_type": "execute_result",
          "data": {
            "text/plain": [
              "MPG             0\n",
              "Cylinders       0\n",
              "Displacement    0\n",
              "Horsepower      6\n",
              "Weight          0\n",
              "Acceleration    0\n",
              "Model Year      0\n",
              "Origin          0\n",
              "CarName         0\n",
              "dtype: int64"
            ]
          },
          "metadata": {},
          "execution_count": 746
        }
      ],
      "source": [
        "df.isnull().sum()"
      ]
    },
    {
      "cell_type": "code",
      "execution_count": 747,
      "metadata": {
        "colab": {
          "base_uri": "https://localhost:8080/",
          "height": 676
        },
        "id": "83urHXrusE4n",
        "outputId": "e051d0ae-674f-48ac-fd74-3c12e2623aee"
      },
      "outputs": [
        {
          "output_type": "execute_result",
          "data": {
            "text/html": [
              "<div>\n",
              "<style scoped>\n",
              "    .dataframe tbody tr th:only-of-type {\n",
              "        vertical-align: middle;\n",
              "    }\n",
              "\n",
              "    .dataframe tbody tr th {\n",
              "        vertical-align: top;\n",
              "    }\n",
              "\n",
              "    .dataframe thead th {\n",
              "        text-align: right;\n",
              "    }\n",
              "</style>\n",
              "<table border=\"1\" class=\"dataframe\">\n",
              "  <thead>\n",
              "    <tr style=\"text-align: right;\">\n",
              "      <th></th>\n",
              "      <th>MPG</th>\n",
              "      <th>Cylinders</th>\n",
              "      <th>Displacement</th>\n",
              "      <th>Horsepower</th>\n",
              "      <th>Weight</th>\n",
              "      <th>Acceleration</th>\n",
              "      <th>Model Year</th>\n",
              "      <th>Origin</th>\n",
              "      <th>CarName</th>\n",
              "    </tr>\n",
              "  </thead>\n",
              "  <tbody>\n",
              "    <tr>\n",
              "      <th>0</th>\n",
              "      <td>18.0</td>\n",
              "      <td>8</td>\n",
              "      <td>307.0</td>\n",
              "      <td>130.0</td>\n",
              "      <td>3504.0</td>\n",
              "      <td>12.0</td>\n",
              "      <td>0</td>\n",
              "      <td>1</td>\n",
              "      <td>49</td>\n",
              "    </tr>\n",
              "    <tr>\n",
              "      <th>1</th>\n",
              "      <td>15.0</td>\n",
              "      <td>8</td>\n",
              "      <td>350.0</td>\n",
              "      <td>165.0</td>\n",
              "      <td>3693.0</td>\n",
              "      <td>11.5</td>\n",
              "      <td>0</td>\n",
              "      <td>1</td>\n",
              "      <td>36</td>\n",
              "    </tr>\n",
              "    <tr>\n",
              "      <th>2</th>\n",
              "      <td>18.0</td>\n",
              "      <td>8</td>\n",
              "      <td>318.0</td>\n",
              "      <td>150.0</td>\n",
              "      <td>3436.0</td>\n",
              "      <td>11.0</td>\n",
              "      <td>0</td>\n",
              "      <td>1</td>\n",
              "      <td>231</td>\n",
              "    </tr>\n",
              "    <tr>\n",
              "      <th>3</th>\n",
              "      <td>16.0</td>\n",
              "      <td>8</td>\n",
              "      <td>304.0</td>\n",
              "      <td>150.0</td>\n",
              "      <td>3433.0</td>\n",
              "      <td>12.0</td>\n",
              "      <td>0</td>\n",
              "      <td>1</td>\n",
              "      <td>14</td>\n",
              "    </tr>\n",
              "    <tr>\n",
              "      <th>4</th>\n",
              "      <td>17.0</td>\n",
              "      <td>8</td>\n",
              "      <td>302.0</td>\n",
              "      <td>140.0</td>\n",
              "      <td>3449.0</td>\n",
              "      <td>10.5</td>\n",
              "      <td>0</td>\n",
              "      <td>1</td>\n",
              "      <td>161</td>\n",
              "    </tr>\n",
              "    <tr>\n",
              "      <th>5</th>\n",
              "      <td>15.0</td>\n",
              "      <td>8</td>\n",
              "      <td>429.0</td>\n",
              "      <td>198.0</td>\n",
              "      <td>4341.0</td>\n",
              "      <td>10.0</td>\n",
              "      <td>0</td>\n",
              "      <td>1</td>\n",
              "      <td>141</td>\n",
              "    </tr>\n",
              "    <tr>\n",
              "      <th>6</th>\n",
              "      <td>14.0</td>\n",
              "      <td>8</td>\n",
              "      <td>454.0</td>\n",
              "      <td>220.0</td>\n",
              "      <td>4354.0</td>\n",
              "      <td>9.0</td>\n",
              "      <td>0</td>\n",
              "      <td>1</td>\n",
              "      <td>54</td>\n",
              "    </tr>\n",
              "    <tr>\n",
              "      <th>7</th>\n",
              "      <td>14.0</td>\n",
              "      <td>8</td>\n",
              "      <td>440.0</td>\n",
              "      <td>215.0</td>\n",
              "      <td>4312.0</td>\n",
              "      <td>8.5</td>\n",
              "      <td>0</td>\n",
              "      <td>1</td>\n",
              "      <td>223</td>\n",
              "    </tr>\n",
              "    <tr>\n",
              "      <th>8</th>\n",
              "      <td>14.0</td>\n",
              "      <td>8</td>\n",
              "      <td>455.0</td>\n",
              "      <td>225.0</td>\n",
              "      <td>4425.0</td>\n",
              "      <td>10.0</td>\n",
              "      <td>0</td>\n",
              "      <td>1</td>\n",
              "      <td>241</td>\n",
              "    </tr>\n",
              "    <tr>\n",
              "      <th>9</th>\n",
              "      <td>15.0</td>\n",
              "      <td>8</td>\n",
              "      <td>390.0</td>\n",
              "      <td>190.0</td>\n",
              "      <td>3850.0</td>\n",
              "      <td>8.5</td>\n",
              "      <td>0</td>\n",
              "      <td>1</td>\n",
              "      <td>1</td>\n",
              "    </tr>\n",
              "    <tr>\n",
              "      <th>10</th>\n",
              "      <td>15.0</td>\n",
              "      <td>8</td>\n",
              "      <td>383.0</td>\n",
              "      <td>170.0</td>\n",
              "      <td>3563.0</td>\n",
              "      <td>10.0</td>\n",
              "      <td>0</td>\n",
              "      <td>1</td>\n",
              "      <td>101</td>\n",
              "    </tr>\n",
              "    <tr>\n",
              "      <th>11</th>\n",
              "      <td>14.0</td>\n",
              "      <td>8</td>\n",
              "      <td>340.0</td>\n",
              "      <td>160.0</td>\n",
              "      <td>3609.0</td>\n",
              "      <td>8.0</td>\n",
              "      <td>0</td>\n",
              "      <td>1</td>\n",
              "      <td>215</td>\n",
              "    </tr>\n",
              "    <tr>\n",
              "      <th>12</th>\n",
              "      <td>15.0</td>\n",
              "      <td>8</td>\n",
              "      <td>400.0</td>\n",
              "      <td>150.0</td>\n",
              "      <td>3761.0</td>\n",
              "      <td>9.5</td>\n",
              "      <td>0</td>\n",
              "      <td>1</td>\n",
              "      <td>57</td>\n",
              "    </tr>\n",
              "    <tr>\n",
              "      <th>13</th>\n",
              "      <td>14.0</td>\n",
              "      <td>8</td>\n",
              "      <td>455.0</td>\n",
              "      <td>225.0</td>\n",
              "      <td>3086.0</td>\n",
              "      <td>10.0</td>\n",
              "      <td>0</td>\n",
              "      <td>1</td>\n",
              "      <td>30</td>\n",
              "    </tr>\n",
              "    <tr>\n",
              "      <th>14</th>\n",
              "      <td>24.0</td>\n",
              "      <td>4</td>\n",
              "      <td>113.0</td>\n",
              "      <td>95.0</td>\n",
              "      <td>2372.0</td>\n",
              "      <td>15.0</td>\n",
              "      <td>0</td>\n",
              "      <td>3</td>\n",
              "      <td>274</td>\n",
              "    </tr>\n",
              "    <tr>\n",
              "      <th>15</th>\n",
              "      <td>22.0</td>\n",
              "      <td>6</td>\n",
              "      <td>198.0</td>\n",
              "      <td>95.0</td>\n",
              "      <td>2833.0</td>\n",
              "      <td>15.5</td>\n",
              "      <td>0</td>\n",
              "      <td>1</td>\n",
              "      <td>220</td>\n",
              "    </tr>\n",
              "    <tr>\n",
              "      <th>16</th>\n",
              "      <td>18.0</td>\n",
              "      <td>6</td>\n",
              "      <td>199.0</td>\n",
              "      <td>97.0</td>\n",
              "      <td>2774.0</td>\n",
              "      <td>15.5</td>\n",
              "      <td>0</td>\n",
              "      <td>1</td>\n",
              "      <td>8</td>\n",
              "    </tr>\n",
              "    <tr>\n",
              "      <th>17</th>\n",
              "      <td>21.0</td>\n",
              "      <td>6</td>\n",
              "      <td>200.0</td>\n",
              "      <td>85.0</td>\n",
              "      <td>2587.0</td>\n",
              "      <td>16.0</td>\n",
              "      <td>0</td>\n",
              "      <td>1</td>\n",
              "      <td>150</td>\n",
              "    </tr>\n",
              "    <tr>\n",
              "      <th>18</th>\n",
              "      <td>27.0</td>\n",
              "      <td>4</td>\n",
              "      <td>97.0</td>\n",
              "      <td>88.0</td>\n",
              "      <td>2130.0</td>\n",
              "      <td>14.5</td>\n",
              "      <td>0</td>\n",
              "      <td>3</td>\n",
              "      <td>95</td>\n",
              "    </tr>\n",
              "    <tr>\n",
              "      <th>19</th>\n",
              "      <td>26.0</td>\n",
              "      <td>4</td>\n",
              "      <td>97.0</td>\n",
              "      <td>46.0</td>\n",
              "      <td>1835.0</td>\n",
              "      <td>20.5</td>\n",
              "      <td>0</td>\n",
              "      <td>2</td>\n",
              "      <td>282</td>\n",
              "    </tr>\n",
              "  </tbody>\n",
              "</table>\n",
              "</div>"
            ],
            "text/plain": [
              "     MPG  Cylinders  Displacement  ...  Model Year  Origin  CarName\n",
              "0   18.0          8         307.0  ...           0       1       49\n",
              "1   15.0          8         350.0  ...           0       1       36\n",
              "2   18.0          8         318.0  ...           0       1      231\n",
              "3   16.0          8         304.0  ...           0       1       14\n",
              "4   17.0          8         302.0  ...           0       1      161\n",
              "5   15.0          8         429.0  ...           0       1      141\n",
              "6   14.0          8         454.0  ...           0       1       54\n",
              "7   14.0          8         440.0  ...           0       1      223\n",
              "8   14.0          8         455.0  ...           0       1      241\n",
              "9   15.0          8         390.0  ...           0       1        1\n",
              "10  15.0          8         383.0  ...           0       1      101\n",
              "11  14.0          8         340.0  ...           0       1      215\n",
              "12  15.0          8         400.0  ...           0       1       57\n",
              "13  14.0          8         455.0  ...           0       1       30\n",
              "14  24.0          4         113.0  ...           0       3      274\n",
              "15  22.0          6         198.0  ...           0       1      220\n",
              "16  18.0          6         199.0  ...           0       1        8\n",
              "17  21.0          6         200.0  ...           0       1      150\n",
              "18  27.0          4          97.0  ...           0       3       95\n",
              "19  26.0          4          97.0  ...           0       2      282\n",
              "\n",
              "[20 rows x 9 columns]"
            ]
          },
          "metadata": {},
          "execution_count": 747
        }
      ],
      "source": [
        "df['Horsepower'].fillna(value=0,inplace=True)\n",
        "df.head(20)"
      ]
    },
    {
      "cell_type": "code",
      "execution_count": 748,
      "metadata": {
        "colab": {
          "base_uri": "https://localhost:8080/",
          "height": 520
        },
        "id": "7cgW0bnlFbZa",
        "outputId": "486390e0-6e37-471d-be5a-70ef310dd5f8"
      },
      "outputs": [
        {
          "output_type": "execute_result",
          "data": {
            "text/html": [
              "<div>\n",
              "<style scoped>\n",
              "    .dataframe tbody tr th:only-of-type {\n",
              "        vertical-align: middle;\n",
              "    }\n",
              "\n",
              "    .dataframe tbody tr th {\n",
              "        vertical-align: top;\n",
              "    }\n",
              "\n",
              "    .dataframe thead th {\n",
              "        text-align: right;\n",
              "    }\n",
              "</style>\n",
              "<table border=\"1\" class=\"dataframe\">\n",
              "  <thead>\n",
              "    <tr style=\"text-align: right;\">\n",
              "      <th></th>\n",
              "      <th>MPG</th>\n",
              "      <th>Cylinders</th>\n",
              "      <th>Displacement</th>\n",
              "      <th>Horsepower</th>\n",
              "      <th>Weight</th>\n",
              "      <th>Acceleration</th>\n",
              "      <th>Model Year</th>\n",
              "      <th>Origin</th>\n",
              "      <th>CarName</th>\n",
              "    </tr>\n",
              "  </thead>\n",
              "  <tbody>\n",
              "    <tr>\n",
              "      <th>0</th>\n",
              "      <td>18.0</td>\n",
              "      <td>8</td>\n",
              "      <td>307.0</td>\n",
              "      <td>130.0</td>\n",
              "      <td>3504.0</td>\n",
              "      <td>12.0</td>\n",
              "      <td>0</td>\n",
              "      <td>1</td>\n",
              "      <td>49</td>\n",
              "    </tr>\n",
              "    <tr>\n",
              "      <th>1</th>\n",
              "      <td>15.0</td>\n",
              "      <td>8</td>\n",
              "      <td>350.0</td>\n",
              "      <td>165.0</td>\n",
              "      <td>3693.0</td>\n",
              "      <td>11.5</td>\n",
              "      <td>0</td>\n",
              "      <td>1</td>\n",
              "      <td>36</td>\n",
              "    </tr>\n",
              "    <tr>\n",
              "      <th>2</th>\n",
              "      <td>18.0</td>\n",
              "      <td>8</td>\n",
              "      <td>318.0</td>\n",
              "      <td>150.0</td>\n",
              "      <td>3436.0</td>\n",
              "      <td>11.0</td>\n",
              "      <td>0</td>\n",
              "      <td>1</td>\n",
              "      <td>231</td>\n",
              "    </tr>\n",
              "    <tr>\n",
              "      <th>3</th>\n",
              "      <td>16.0</td>\n",
              "      <td>8</td>\n",
              "      <td>304.0</td>\n",
              "      <td>150.0</td>\n",
              "      <td>3433.0</td>\n",
              "      <td>12.0</td>\n",
              "      <td>0</td>\n",
              "      <td>1</td>\n",
              "      <td>14</td>\n",
              "    </tr>\n",
              "    <tr>\n",
              "      <th>4</th>\n",
              "      <td>17.0</td>\n",
              "      <td>8</td>\n",
              "      <td>302.0</td>\n",
              "      <td>140.0</td>\n",
              "      <td>3449.0</td>\n",
              "      <td>10.5</td>\n",
              "      <td>0</td>\n",
              "      <td>1</td>\n",
              "      <td>161</td>\n",
              "    </tr>\n",
              "    <tr>\n",
              "      <th>5</th>\n",
              "      <td>15.0</td>\n",
              "      <td>8</td>\n",
              "      <td>429.0</td>\n",
              "      <td>198.0</td>\n",
              "      <td>4341.0</td>\n",
              "      <td>10.0</td>\n",
              "      <td>0</td>\n",
              "      <td>1</td>\n",
              "      <td>141</td>\n",
              "    </tr>\n",
              "    <tr>\n",
              "      <th>6</th>\n",
              "      <td>14.0</td>\n",
              "      <td>8</td>\n",
              "      <td>454.0</td>\n",
              "      <td>220.0</td>\n",
              "      <td>4354.0</td>\n",
              "      <td>9.0</td>\n",
              "      <td>0</td>\n",
              "      <td>1</td>\n",
              "      <td>54</td>\n",
              "    </tr>\n",
              "    <tr>\n",
              "      <th>7</th>\n",
              "      <td>14.0</td>\n",
              "      <td>8</td>\n",
              "      <td>440.0</td>\n",
              "      <td>215.0</td>\n",
              "      <td>4312.0</td>\n",
              "      <td>8.5</td>\n",
              "      <td>0</td>\n",
              "      <td>1</td>\n",
              "      <td>223</td>\n",
              "    </tr>\n",
              "    <tr>\n",
              "      <th>8</th>\n",
              "      <td>14.0</td>\n",
              "      <td>8</td>\n",
              "      <td>455.0</td>\n",
              "      <td>225.0</td>\n",
              "      <td>4425.0</td>\n",
              "      <td>10.0</td>\n",
              "      <td>0</td>\n",
              "      <td>1</td>\n",
              "      <td>241</td>\n",
              "    </tr>\n",
              "    <tr>\n",
              "      <th>9</th>\n",
              "      <td>15.0</td>\n",
              "      <td>8</td>\n",
              "      <td>390.0</td>\n",
              "      <td>190.0</td>\n",
              "      <td>3850.0</td>\n",
              "      <td>8.5</td>\n",
              "      <td>0</td>\n",
              "      <td>1</td>\n",
              "      <td>1</td>\n",
              "    </tr>\n",
              "    <tr>\n",
              "      <th>10</th>\n",
              "      <td>15.0</td>\n",
              "      <td>8</td>\n",
              "      <td>383.0</td>\n",
              "      <td>170.0</td>\n",
              "      <td>3563.0</td>\n",
              "      <td>10.0</td>\n",
              "      <td>0</td>\n",
              "      <td>1</td>\n",
              "      <td>101</td>\n",
              "    </tr>\n",
              "    <tr>\n",
              "      <th>11</th>\n",
              "      <td>14.0</td>\n",
              "      <td>8</td>\n",
              "      <td>340.0</td>\n",
              "      <td>160.0</td>\n",
              "      <td>3609.0</td>\n",
              "      <td>8.0</td>\n",
              "      <td>0</td>\n",
              "      <td>1</td>\n",
              "      <td>215</td>\n",
              "    </tr>\n",
              "    <tr>\n",
              "      <th>12</th>\n",
              "      <td>15.0</td>\n",
              "      <td>8</td>\n",
              "      <td>400.0</td>\n",
              "      <td>150.0</td>\n",
              "      <td>3761.0</td>\n",
              "      <td>9.5</td>\n",
              "      <td>0</td>\n",
              "      <td>1</td>\n",
              "      <td>57</td>\n",
              "    </tr>\n",
              "    <tr>\n",
              "      <th>13</th>\n",
              "      <td>14.0</td>\n",
              "      <td>8</td>\n",
              "      <td>455.0</td>\n",
              "      <td>225.0</td>\n",
              "      <td>3086.0</td>\n",
              "      <td>10.0</td>\n",
              "      <td>0</td>\n",
              "      <td>1</td>\n",
              "      <td>30</td>\n",
              "    </tr>\n",
              "    <tr>\n",
              "      <th>14</th>\n",
              "      <td>24.0</td>\n",
              "      <td>4</td>\n",
              "      <td>113.0</td>\n",
              "      <td>95.0</td>\n",
              "      <td>2372.0</td>\n",
              "      <td>15.0</td>\n",
              "      <td>0</td>\n",
              "      <td>3</td>\n",
              "      <td>274</td>\n",
              "    </tr>\n",
              "  </tbody>\n",
              "</table>\n",
              "</div>"
            ],
            "text/plain": [
              "     MPG  Cylinders  Displacement  ...  Model Year  Origin  CarName\n",
              "0   18.0          8         307.0  ...           0       1       49\n",
              "1   15.0          8         350.0  ...           0       1       36\n",
              "2   18.0          8         318.0  ...           0       1      231\n",
              "3   16.0          8         304.0  ...           0       1       14\n",
              "4   17.0          8         302.0  ...           0       1      161\n",
              "5   15.0          8         429.0  ...           0       1      141\n",
              "6   14.0          8         454.0  ...           0       1       54\n",
              "7   14.0          8         440.0  ...           0       1      223\n",
              "8   14.0          8         455.0  ...           0       1      241\n",
              "9   15.0          8         390.0  ...           0       1        1\n",
              "10  15.0          8         383.0  ...           0       1      101\n",
              "11  14.0          8         340.0  ...           0       1      215\n",
              "12  15.0          8         400.0  ...           0       1       57\n",
              "13  14.0          8         455.0  ...           0       1       30\n",
              "14  24.0          4         113.0  ...           0       3      274\n",
              "\n",
              "[15 rows x 9 columns]"
            ]
          },
          "metadata": {},
          "execution_count": 748
        }
      ],
      "source": [
        "df.head(15)"
      ]
    },
    {
      "cell_type": "code",
      "execution_count": 749,
      "metadata": {
        "colab": {
          "base_uri": "https://localhost:8080/"
        },
        "id": "MRZ_T3AyFeJA",
        "outputId": "060619e8-d0a0-42bd-d8e5-4e17ba76f246"
      },
      "outputs": [
        {
          "output_type": "stream",
          "name": "stdout",
          "text": [
            "     Cylinders  Displacement  Horsepower  ...  Model Year  Origin  CarName\n",
            "0            8         307.0       130.0  ...           0       1       49\n",
            "1            8         350.0       165.0  ...           0       1       36\n",
            "2            8         318.0       150.0  ...           0       1      231\n",
            "3            8         304.0       150.0  ...           0       1       14\n",
            "4            8         302.0       140.0  ...           0       1      161\n",
            "..         ...           ...         ...  ...         ...     ...      ...\n",
            "393          4         140.0        86.0  ...          12       1      153\n",
            "394          4          97.0        52.0  ...          12       2      301\n",
            "395          4         135.0        84.0  ...          12       1      119\n",
            "396          4         120.0        79.0  ...          12       1      159\n",
            "397          4         119.0        82.0  ...          12       1       69\n",
            "\n",
            "[398 rows x 8 columns]\n",
            "      MPG\n",
            "0    18.0\n",
            "1    15.0\n",
            "2    18.0\n",
            "3    16.0\n",
            "4    17.0\n",
            "..    ...\n",
            "393  27.0\n",
            "394  44.0\n",
            "395  32.0\n",
            "396  28.0\n",
            "397  31.0\n",
            "\n",
            "[398 rows x 1 columns]\n"
          ]
        }
      ],
      "source": [
        "X=df.iloc[:,1:]\n",
        "print(X)\n",
        "y=df.iloc[:,:1]\n",
        "print(y)"
      ]
    },
    {
      "cell_type": "code",
      "execution_count": 750,
      "metadata": {
        "colab": {
          "base_uri": "https://localhost:8080/"
        },
        "id": "VBW1eZCvtWFb",
        "outputId": "b0893c42-c94a-4228-e211-50cd695dbda3"
      },
      "outputs": [
        {
          "output_type": "execute_result",
          "data": {
            "text/plain": [
              "Index(['MPG', 'Cylinders', 'Displacement', 'Horsepower', 'Weight',\n",
              "       'Acceleration', 'Model Year', 'Origin'],\n",
              "      dtype='object')"
            ]
          },
          "metadata": {},
          "execution_count": 750
        }
      ],
      "source": [
        "df=df.drop('CarName',axis=1)\n",
        "df.columns"
      ]
    },
    {
      "cell_type": "code",
      "execution_count": 751,
      "metadata": {
        "id": "rBJVXzTuFh4n"
      },
      "outputs": [],
      "source": [
        "from sklearn.preprocessing import StandardScaler\n",
        "sc=StandardScaler()\n",
        "X=pd.DataFrame(sc.fit_transform(X), columns =['Cylinders', 'Displacement', 'Horsepower', 'Weight',\n",
        "       'Acceleration', 'Model Year', 'Origin', 'CarName'])"
      ]
    },
    {
      "cell_type": "code",
      "execution_count": 752,
      "metadata": {
        "id": "_lJNJWnet6MP"
      },
      "outputs": [],
      "source": [
        "from sklearn.preprocessing import OneHotEncoder\n",
        "ohe=OneHotEncoder()\n",
        "#y=ohe.fit_transform(y).toarray()"
      ]
    },
    {
      "cell_type": "code",
      "execution_count": 753,
      "metadata": {
        "colab": {
          "base_uri": "https://localhost:8080/"
        },
        "id": "SgbXra1ixUG5",
        "outputId": "ab5ec3b2-772c-428d-a69d-403bf23fe7f9"
      },
      "outputs": [
        {
          "output_type": "stream",
          "name": "stdout",
          "text": [
            "     Cylinders  Displacement  Horsepower  ...  Model Year    Origin   CarName\n",
            "0     1.498191      1.090604    0.673950  ...   -1.627426 -0.715145 -1.113745\n",
            "1     1.498191      1.503514    1.544187  ...   -1.627426 -0.715145 -1.259185\n",
            "2     1.498191      1.196232    1.171228  ...   -1.627426 -0.715145  0.922428\n",
            "3     1.498191      1.061796    1.171228  ...   -1.627426 -0.715145 -1.505316\n",
            "4     1.498191      1.042591    0.922589  ...   -1.627426 -0.715145  0.139285\n",
            "..         ...           ...         ...  ...         ...       ...       ...\n",
            "393  -0.856321     -0.513026   -0.420063  ...    1.621983 -0.715145  0.049783\n",
            "394  -0.856321     -0.925936   -1.265436  ...    1.621983  0.533222  1.705572\n",
            "395  -0.856321     -0.561039   -0.469791  ...    1.621983 -0.715145 -0.330601\n",
            "396  -0.856321     -0.705077   -0.594110  ...    1.621983 -0.715145  0.116909\n",
            "397  -0.856321     -0.714680   -0.519518  ...    1.621983 -0.715145 -0.889989\n",
            "\n",
            "[398 rows x 8 columns]\n",
            "      MPG\n",
            "0    18.0\n",
            "1    15.0\n",
            "2    18.0\n",
            "3    16.0\n",
            "4    17.0\n",
            "..    ...\n",
            "393  27.0\n",
            "394  44.0\n",
            "395  32.0\n",
            "396  28.0\n",
            "397  31.0\n",
            "\n",
            "[398 rows x 1 columns]\n"
          ]
        }
      ],
      "source": [
        "print(X)\n",
        "print(y)"
      ]
    },
    {
      "cell_type": "code",
      "execution_count": 754,
      "metadata": {
        "colab": {
          "base_uri": "https://localhost:8080/"
        },
        "id": "J4jUILKhv4C9",
        "outputId": "d2be24cd-5ea1-4e46-b19a-481160400554"
      },
      "outputs": [
        {
          "output_type": "stream",
          "name": "stdout",
          "text": [
            "318 train + 80 test\n"
          ]
        }
      ],
      "source": [
        "# Split dataset into training set and test set\n",
        "from sklearn.model_selection import train_test_split\n",
        "X_train, X_test, y_train, y_test = train_test_split(X, y, test_size=0.2,random_state=7) # 80% training and 20% test\n",
        "print(len(X_train),\"train +\",len(y_test),\"test\")"
      ]
    },
    {
      "cell_type": "code",
      "execution_count": 755,
      "metadata": {
        "id": "KizJIxGGv-9z"
      },
      "outputs": [],
      "source": [
        "#back-propagation\n",
        "import tensorflow.python.keras\n",
        "from tensorflow.python.keras.models import Sequential\n",
        "from tensorflow.python.keras.layers import Dense\n",
        "model= Sequential()\n",
        "model.add(Dense  (5,input_dim=8,activation='relu'))\n",
        "model.add(Dense  (6,activation='relu'))\n",
        "model.add(Dense  (1,activation='softmax'))"
      ]
    },
    {
      "cell_type": "code",
      "execution_count": 756,
      "metadata": {
        "id": "_MjLdG74wHRC"
      },
      "outputs": [],
      "source": [
        "model.compile(loss='mean_squared_error',optimizer='adam')"
      ]
    },
    {
      "cell_type": "code",
      "execution_count": 757,
      "metadata": {
        "id": "H0dTQVeDwNVJ",
        "colab": {
          "base_uri": "https://localhost:8080/"
        },
        "outputId": "a355b52b-ff77-4f03-f2ff-835ed47a9b81"
      },
      "outputs": [
        {
          "output_type": "stream",
          "name": "stdout",
          "text": [
            "Epoch 1/50\n",
            "7/7 [==============================] - 0s 2ms/step - loss: 568.1427\n",
            "Epoch 2/50\n",
            "7/7 [==============================] - 0s 2ms/step - loss: 568.1428\n",
            "Epoch 3/50\n",
            "7/7 [==============================] - 0s 2ms/step - loss: 568.1427\n",
            "Epoch 4/50\n",
            "7/7 [==============================] - 0s 2ms/step - loss: 568.1428\n",
            "Epoch 5/50\n",
            "7/7 [==============================] - 0s 2ms/step - loss: 568.1428\n",
            "Epoch 6/50\n",
            "7/7 [==============================] - 0s 2ms/step - loss: 568.1428\n",
            "Epoch 7/50\n",
            "7/7 [==============================] - 0s 2ms/step - loss: 568.1427\n",
            "Epoch 8/50\n",
            "7/7 [==============================] - 0s 2ms/step - loss: 568.1428\n",
            "Epoch 9/50\n",
            "7/7 [==============================] - 0s 2ms/step - loss: 568.1428\n",
            "Epoch 10/50\n",
            "7/7 [==============================] - 0s 2ms/step - loss: 568.1428\n",
            "Epoch 11/50\n",
            "7/7 [==============================] - 0s 2ms/step - loss: 568.1428\n",
            "Epoch 12/50\n",
            "7/7 [==============================] - 0s 3ms/step - loss: 568.1428\n",
            "Epoch 13/50\n",
            "7/7 [==============================] - 0s 3ms/step - loss: 568.1428\n",
            "Epoch 14/50\n",
            "7/7 [==============================] - 0s 2ms/step - loss: 568.1428\n",
            "Epoch 15/50\n",
            "7/7 [==============================] - 0s 2ms/step - loss: 568.1428\n",
            "Epoch 16/50\n",
            "7/7 [==============================] - 0s 5ms/step - loss: 568.1428\n",
            "Epoch 17/50\n",
            "7/7 [==============================] - 0s 3ms/step - loss: 568.1428\n",
            "Epoch 18/50\n",
            "7/7 [==============================] - 0s 4ms/step - loss: 568.1428\n",
            "Epoch 19/50\n",
            "7/7 [==============================] - 0s 3ms/step - loss: 568.1428\n",
            "Epoch 20/50\n",
            "7/7 [==============================] - 0s 3ms/step - loss: 568.1428\n",
            "Epoch 21/50\n",
            "7/7 [==============================] - 0s 2ms/step - loss: 568.1428\n",
            "Epoch 22/50\n",
            "7/7 [==============================] - 0s 3ms/step - loss: 568.1428\n",
            "Epoch 23/50\n",
            "7/7 [==============================] - 0s 2ms/step - loss: 568.1428\n",
            "Epoch 24/50\n",
            "7/7 [==============================] - 0s 2ms/step - loss: 568.1428\n",
            "Epoch 25/50\n",
            "7/7 [==============================] - 0s 2ms/step - loss: 568.1428\n",
            "Epoch 26/50\n",
            "7/7 [==============================] - 0s 2ms/step - loss: 568.1428\n",
            "Epoch 27/50\n",
            "7/7 [==============================] - 0s 2ms/step - loss: 568.1428\n",
            "Epoch 28/50\n",
            "7/7 [==============================] - 0s 2ms/step - loss: 568.1428\n",
            "Epoch 29/50\n",
            "7/7 [==============================] - 0s 3ms/step - loss: 568.1428\n",
            "Epoch 30/50\n",
            "7/7 [==============================] - 0s 4ms/step - loss: 568.1428\n",
            "Epoch 31/50\n",
            "7/7 [==============================] - 0s 2ms/step - loss: 568.1428\n",
            "Epoch 32/50\n",
            "7/7 [==============================] - 0s 3ms/step - loss: 568.1428\n",
            "Epoch 33/50\n",
            "7/7 [==============================] - 0s 3ms/step - loss: 568.1427\n",
            "Epoch 34/50\n",
            "7/7 [==============================] - 0s 3ms/step - loss: 568.1428\n",
            "Epoch 35/50\n",
            "7/7 [==============================] - 0s 2ms/step - loss: 568.1428\n",
            "Epoch 36/50\n",
            "7/7 [==============================] - 0s 2ms/step - loss: 568.1428\n",
            "Epoch 37/50\n",
            "7/7 [==============================] - 0s 2ms/step - loss: 568.1428\n",
            "Epoch 38/50\n",
            "7/7 [==============================] - 0s 2ms/step - loss: 568.1428\n",
            "Epoch 39/50\n",
            "7/7 [==============================] - 0s 2ms/step - loss: 568.1428\n",
            "Epoch 40/50\n",
            "7/7 [==============================] - 0s 2ms/step - loss: 568.1428\n",
            "Epoch 41/50\n",
            "7/7 [==============================] - 0s 2ms/step - loss: 568.1427\n",
            "Epoch 42/50\n",
            "7/7 [==============================] - 0s 2ms/step - loss: 568.1428\n",
            "Epoch 43/50\n",
            "7/7 [==============================] - 0s 2ms/step - loss: 568.1428\n",
            "Epoch 44/50\n",
            "7/7 [==============================] - 0s 3ms/step - loss: 568.1428\n",
            "Epoch 45/50\n",
            "7/7 [==============================] - 0s 2ms/step - loss: 568.1428\n",
            "Epoch 46/50\n",
            "7/7 [==============================] - 0s 3ms/step - loss: 568.1428\n",
            "Epoch 47/50\n",
            "7/7 [==============================] - 0s 3ms/step - loss: 568.1427\n",
            "Epoch 48/50\n",
            "7/7 [==============================] - 0s 3ms/step - loss: 568.1428\n",
            "Epoch 49/50\n",
            "7/7 [==============================] - 0s 4ms/step - loss: 568.1428\n",
            "Epoch 50/50\n",
            "7/7 [==============================] - 0s 2ms/step - loss: 568.1428\n"
          ]
        }
      ],
      "source": [
        "history=model.fit(X_train,y_train,epochs=50,batch_size=50)"
      ]
    },
    {
      "cell_type": "code",
      "execution_count": 758,
      "metadata": {
        "id": "0A2-O0v8wRxW",
        "colab": {
          "base_uri": "https://localhost:8080/"
        },
        "outputId": "26e1a4f8-bfda-419b-83f1-e03e54eff531"
      },
      "outputs": [
        {
          "output_type": "stream",
          "name": "stdout",
          "text": [
            "      MPG\n",
            "148  26.0\n",
            "389  22.0\n",
            "350  34.7\n",
            "52   30.0\n",
            "332  29.8\n",
            "..    ...\n",
            "74   13.0\n",
            "145  32.0\n",
            "243  21.5\n",
            "50   28.0\n",
            "240  30.5\n",
            "\n",
            "[80 rows x 1 columns]\n",
            "     Cylinders  Displacement  Horsepower  ...  Model Year    Origin   CarName\n",
            "148  -0.856321     -0.743488   -0.693566  ...   -0.544290  0.533222 -0.297038\n",
            "389   0.320935      0.370411    0.226399  ...    1.621983 -0.715145 -0.017344\n",
            "350  -0.856321     -0.849116   -0.991933  ...    1.351199 -0.715145  0.866489\n",
            "52   -0.856321     -1.012360   -0.668702  ...   -1.356642  0.533222 -0.285850\n",
            "332  -0.856321     -1.002757   -1.016797  ...    1.080415  0.533222  1.481816\n",
            "..         ...           ...         ...  ...         ...       ...       ...\n",
            "74    1.498191      1.042591    0.922589  ...   -1.085858 -0.715145 -0.062095\n",
            "145  -0.856321     -1.060372   -1.041661  ...   -0.544290  1.781589 -0.677422\n",
            "243  -1.444949     -1.089180    0.176671  ...    0.268063  1.781589  0.363040\n",
            "50   -0.856321     -0.743488   -0.320607  ...   -1.356642  0.533222  0.665110\n",
            "240  -0.856321     -0.925936   -0.618974  ...    0.268063  0.533222  1.515380\n",
            "\n",
            "[80 rows x 8 columns]\n"
          ]
        }
      ],
      "source": [
        "y_pred=model.predict(X_test)\n",
        "print(y_test)\n",
        "print(X_test)"
      ]
    },
    {
      "cell_type": "code",
      "execution_count": 760,
      "metadata": {
        "colab": {
          "base_uri": "https://localhost:8080/"
        },
        "id": "o39WfdMqwdT0",
        "outputId": "5c066cbb-ada6-4ec2-f356-f76368d7a73e"
      },
      "outputs": [
        {
          "output_type": "stream",
          "name": "stdout",
          "text": [
            "Error: 56664.71250000001\n"
          ]
        }
      ],
      "source": [
        "#prediction for error\n",
        "from sklearn.metrics import mean_squared_error\n",
        "\n",
        "lin_mse = mean_squared_error(y_test, y_pred)*100\n",
        "\n",
        "print(\"Error:\",lin_mse)"
      ]
    }
  ],
  "metadata": {
    "colab": {
      "collapsed_sections": [],
      "name": "Yasmeen_Ayman_41810051_(MPG).ipynb",
      "provenance": []
    },
    "kernelspec": {
      "display_name": "Python 3",
      "language": "python",
      "name": "python3"
    },
    "language_info": {
      "codemirror_mode": {
        "name": "ipython",
        "version": 3
      },
      "file_extension": ".py",
      "mimetype": "text/x-python",
      "name": "python",
      "nbconvert_exporter": "python",
      "pygments_lexer": "ipython3",
      "version": "3.8.8"
    }
  },
  "nbformat": 4,
  "nbformat_minor": 0
}